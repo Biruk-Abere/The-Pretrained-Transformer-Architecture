{
  "nbformat": 4,
  "nbformat_minor": 0,
  "metadata": {
    "colab": {
      "provenance": [],
      "authorship_tag": "ABX9TyPftNXgTM+rFluvBclHbwzI",
      "include_colab_link": true
    },
    "kernelspec": {
      "name": "python3",
      "display_name": "Python 3"
    },
    "language_info": {
      "name": "python"
    }
  },
  "cells": [
    {
      "cell_type": "markdown",
      "metadata": {
        "id": "view-in-github",
        "colab_type": "text"
      },
      "source": [
        "<a href=\"https://colab.research.google.com/github/quinbez/The-Transformer-Architecture/blob/main/Transformer_Architecture_With_Pytorch.ipynb\" target=\"_parent\"><img src=\"https://colab.research.google.com/assets/colab-badge.svg\" alt=\"Open In Colab\"/></a>"
      ]
    },
    {
      "cell_type": "markdown",
      "source": [
        "### **Input Embedding**"
      ],
      "metadata": {
        "id": "zjv9788xz7Ck"
      }
    },
    {
      "cell_type": "code",
      "execution_count": 25,
      "metadata": {
        "id": "VWi50I0Bu6PH"
      },
      "outputs": [],
      "source": [
        "import torch\n",
        "import torch.nn as nn\n",
        "import math"
      ]
    },
    {
      "cell_type": "code",
      "source": [
        "class InputEmbeddings(nn.Module):\n",
        "  def __init__(self, d_model: int, vocab_size: int):\n",
        "    super().__init__()\n",
        "    self.d_model = d_model\n",
        "    self.vocab_size = vocab_size\n",
        "    self.embedding = nn.Embedding(vocab_size, d_model)\n",
        "\n",
        "  def forward(self, x):\n",
        "    x = self.embedding(x)\n",
        "    x = x * math.sqrt(self.d_model)\n",
        "    return x"
      ],
      "metadata": {
        "id": "wIk2IMFw0ZM1"
      },
      "execution_count": 26,
      "outputs": []
    },
    {
      "cell_type": "markdown",
      "source": [
        "### **Positional Encoding**"
      ],
      "metadata": {
        "id": "_9oaqCOq8SvZ"
      }
    },
    {
      "cell_type": "code",
      "source": [
        "class PositionalEncoding(nn.Module):\n",
        "  def __init__(self, d_model, seq_len, dropout: float)->None:\n",
        "    super().__init__()\n",
        "    self.d_model = d_model\n",
        "    self.seq_len = seq_len\n",
        "    self.dropout = nn.Dropout(dropout)\n",
        "\n",
        "    pe = torch.zeros(seq_len, d_model)\n",
        "    position = torch.arange(0, seq_len, dtype = float).unsqueeze(1)\n",
        "    div_term = torch.exp(torch.arange(0, d_model, 2).float() * -math.log(10000.0 / d_model))\n",
        "\n",
        "    pe[:, 0::2] = torch.sin(position * div_term)\n",
        "    pe[:, 1::2] = torch.cos(position * div_term)\n",
        "\n",
        "    pe = pe.unsqueeze(0)\n",
        "    self.register_buffer('pe', pe)\n",
        "\n",
        "  def forward(self, x):\n",
        "    x = x + (self.pe[:, :x.shape[1], :])\n",
        "    return self.dropout(x)"
      ],
      "metadata": {
        "id": "uUfsenzy9Gpq"
      },
      "execution_count": 27,
      "outputs": []
    },
    {
      "cell_type": "markdown",
      "source": [
        "### **Layer Normalization**"
      ],
      "metadata": {
        "id": "lurU2VKXDm56"
      }
    },
    {
      "cell_type": "code",
      "source": [
        "class LayerNormalization(nn.Module):\n",
        "  def __init__(self, eps: float = 10**-6)->None:\n",
        "    super().__init__()\n",
        "    self.eps = eps\n",
        "    self.alpha = nn.Parameter(torch.ones(1))\n",
        "    self.bias = nn.Parameter(torch.ones(1))\n",
        "\n",
        "  def forward(self,x):\n",
        "    mean = x.mean(dim = -1, keepdim = True)\n",
        "    std = x.std(dim = -1, keepdim = True)\n",
        "    return self.alpha * (x - mean) / (std + self.eps) + self.bias"
      ],
      "metadata": {
        "id": "7XFNDB8rDqFn"
      },
      "execution_count": 28,
      "outputs": []
    },
    {
      "cell_type": "markdown",
      "source": [
        "### **Feed-Forward Network**"
      ],
      "metadata": {
        "id": "glgh3L4IG5E3"
      }
    },
    {
      "cell_type": "code",
      "source": [
        "class FeedForwardBlock(nn.Module):\n",
        "  def __init__(self, d_model:int, d_ff:int, dropout:float):\n",
        "    super().__init__()\n",
        "    self.linear_1 = nn.Linear(d_model, d_ff)\n",
        "    self.dropout = nn.Dropout(dropout)\n",
        "    self.linear_2 = nn.Linear(d_ff, d_model)\n",
        "\n",
        "  def forward(self, x):\n",
        "    x = torch.relu(self.linear_1(x))\n",
        "    x = self.dropout(x)\n",
        "    x = self.linear_2(x)\n",
        "    return x"
      ],
      "metadata": {
        "id": "31dbwCC-WWPA"
      },
      "execution_count": 29,
      "outputs": []
    },
    {
      "cell_type": "markdown",
      "source": [
        "### **Multi-Head Attention**"
      ],
      "metadata": {
        "id": "T1GkJcx-Xrd7"
      }
    },
    {
      "cell_type": "code",
      "source": [
        "class MultiHeadAttentionBlock(nn.Module):\n",
        "  def __init__(self, d_model:int, h:int, dropout:float):\n",
        "    super().__init__()\n",
        "    self.d_model = d_model\n",
        "    self.h = h\n",
        "\n",
        "    assert d_model % h == 0, \"d_model must be divisible by h\"\n",
        "    self.d_k = d_model // h\n",
        "\n",
        "    self.w_q = nn.Linear(d_model, d_model)\n",
        "    self.w_k = nn.Linear(d_model, d_model)\n",
        "    self.w_v = nn.Linear(d_model, d_model)\n",
        "    self.w_o = nn.Linear(d_model, d_model)\n",
        "\n",
        "    self.dropout = nn.Dropout(dropout)\n",
        "\n",
        "  @staticmethod\n",
        "  def attention(query, key, value, mask, dropout:nn.Dropout):\n",
        "    d_k = query.shape[-1]     # The last dimension of query, key, and value\n",
        "    attention_scores = (query @ key.transpose(-2, -1)) / math.sqrt(d_k)\n",
        "\n",
        "    if mask is not None:\n",
        "      attention_scores.masked_fill_(mask == 0, -1e9)\n",
        "    attention_scores = attention_scores.softmax(dim = -1)\n",
        "\n",
        "    if dropout is not None:\n",
        "      attention_scores = dropout(attention_scores)\n",
        "\n",
        "    return (attention_scores @ value), attention_scores\n",
        "  def forward(self, q, k, v, mask):\n",
        "    query = self.w_q(q)\n",
        "    key = self.w_k(k)\n",
        "    value = self.w_v(v)\n",
        "\n",
        "    # (Batch, seq_len, d_model) --> (Batch, seq_len, h, d_k) --> (Batch, h, seq_len, d_k)\n",
        "    query = query.view(query.shape[0], query.shape[1], self.h, self.d_k).transpose(1,2)\n",
        "    key = key.view(key.shape[0], key.shape[1], self.h, self.d_k).transpose(1,2)\n",
        "    value = value.view(value.shape[0], value.shape[1], self.h, self.d_k).transpose(1,2)\n",
        "\n",
        "    x, self.attention_scores = MultiHeadAttentionBlock.attention(query, key, value, self.dropout)\n",
        "\n",
        "    x = x.transpose(1,2).contiguous().view(x.shape[0], -1, self.h * self.d_k)\n",
        "    return self.w_o(x)"
      ],
      "metadata": {
        "id": "2eshWkKqcmli"
      },
      "execution_count": 30,
      "outputs": []
    },
    {
      "cell_type": "markdown",
      "source": [
        "### **Residual Connection**"
      ],
      "metadata": {
        "id": "xx2Z7152NUOX"
      }
    },
    {
      "cell_type": "code",
      "source": [
        "class ResidualConnection(nn.Module):\n",
        "  def __init__(self, dropout: float)->None:\n",
        "    super().__init__()\n",
        "    self.dropout = nn.Dropout(dropout)\n",
        "    self.norm = LayerNormalization()\n",
        "\n",
        "  def forward(self, x, sublayer):\n",
        "    y = self.norm(x)\n",
        "    y = sublayer(y)\n",
        "    y = self.dropout(y)\n",
        "    return x + y\n"
      ],
      "metadata": {
        "id": "R0pDnGUpNXzo"
      },
      "execution_count": 31,
      "outputs": []
    },
    {
      "cell_type": "markdown",
      "source": [
        "### **Encoder Block**"
      ],
      "metadata": {
        "id": "TuGNgro4Qqp4"
      }
    },
    {
      "cell_type": "code",
      "source": [
        "class EncoderBlock(nn.Module):\n",
        "  def __init__(self, self_attention_block: MultiHeadAttentionBlock, feed_forward_block: FeedForwardBlock, dropout:float)->None:\n",
        "    super().__init__()\n",
        "    self.self_attention_block = self_attention_block\n",
        "    self.feed_forward_block = feed_forward_block\n",
        "    self.residual_connections = nn.ModuleList([ResidualConnection(dropout) for _ in range(2)])\n",
        "\n",
        "  def forward(self, x, src_mask):\n",
        "    x = self.residual_connections[0](x, lambda x: self.self_attention_block(x, x, x, src_mask))\n",
        "    x = self.residual_connections[1](x, self.feed_forward_block)\n",
        "    return x"
      ],
      "metadata": {
        "id": "05hFpL4eQt6B"
      },
      "execution_count": 32,
      "outputs": []
    },
    {
      "cell_type": "code",
      "source": [
        "class Encoder(nn.Module):\n",
        "  def __init__(self, layers:nn.ModuleList)->None:\n",
        "    super().__init__()\n",
        "    self.layers = layers\n",
        "    self.norm = LayerNormalization()\n",
        "\n",
        "  def forward(self, x, mask):\n",
        "    for layer in self.layers:\n",
        "      x = layer(x, mask)\n",
        "    return self.norm(x)"
      ],
      "metadata": {
        "id": "7oQdCYZyTXNz"
      },
      "execution_count": 33,
      "outputs": []
    },
    {
      "cell_type": "markdown",
      "source": [
        "### **Decoder Block**"
      ],
      "metadata": {
        "id": "RQs7u5A1T5cN"
      }
    },
    {
      "cell_type": "code",
      "source": [
        "class DecoderBlock(nn.Module):\n",
        "  def __init__(self, self_attention_block: MultiHeadAttentionBlock, cross_attention_block: MultiHeadAttentionBlock, feed_forward_block: FeedForwardBlock, dropout:float)->None:\n",
        "    super().__init__()\n",
        "    self.self_attention_block = self_attention_block\n",
        "    self.cross_attention_block = cross_attention_block\n",
        "    self.feed_forward_block = feed_forward_block\n",
        "    self.residual_connections = nn.ModuleList([ResidualConnection(dropout) for _ in range(3)])\n",
        "\n",
        "  def forward(self, x, encoder_output, src_mask, tgt_mask):\n",
        "    x = self.residual_connections[0](x, lambda x: self.self_attention_block(x, x, x, tgt_mask))\n",
        "    x = self.residual_connections[1](x, lambda x: self.self_attention_block(x, encoder_output, encoder_output, src_mask))\n",
        "    x = self.residual_connections[2](x, lambda x: self.feed_forward_block)\n",
        "    return x"
      ],
      "metadata": {
        "id": "esDEQPXkT8l3"
      },
      "execution_count": 34,
      "outputs": []
    },
    {
      "cell_type": "code",
      "source": [
        "class Decoder(nn.Module):\n",
        "  def __init__(self, layers: nn.ModuleList)->None:\n",
        "    super().__init__()\n",
        "    self.layers = layers\n",
        "    self.norm  = LayerNormalization()\n",
        "\n",
        "  def forward(self, x, encoder_output, src_mask, tgt_mask):\n",
        "    for layer in self.layers:\n",
        "      x = layer(x, encoder_output, src_mask, tgt_mask)\n",
        "    return self.norm(x)"
      ],
      "metadata": {
        "id": "1m3HZaablJ1B"
      },
      "execution_count": 35,
      "outputs": []
    },
    {
      "cell_type": "markdown",
      "source": [
        "### **Projection Layer**"
      ],
      "metadata": {
        "id": "pBNn18f7nAvf"
      }
    },
    {
      "cell_type": "code",
      "source": [
        "class ProjectionLayer(nn.Module):\n",
        "  def __init__(self, d_model:int, vocab_size:int)->None:\n",
        "    super().__init__()\n",
        "    self.proj = nn.Linear(d_model, vocab_size)\n",
        "\n",
        "  def forward(self, x):\n",
        "    x = self.proj(x)\n",
        "    x = torch.log_softmax(x, dim = -1)\n",
        "    return x"
      ],
      "metadata": {
        "id": "6uDLoqbWnD2I"
      },
      "execution_count": 36,
      "outputs": []
    },
    {
      "cell_type": "markdown",
      "source": [
        "### **Transformer Block**"
      ],
      "metadata": {
        "id": "ihONmgqApmDU"
      }
    },
    {
      "cell_type": "code",
      "source": [
        "class Transformer(nn.Module):\n",
        "  def __init__(self, encoder:Encoder, decoder:Decoder, src_embed:InputEmbeddings, tgt_embed: InputEmbeddings, src_pos: PositionalEncoding, tgt_pos: PositionalEncoding, projection_layer: ProjectionLayer )->None:\n",
        "    super().__init__()\n",
        "    self.encoder = encoder\n",
        "    self.decoder = decoder\n",
        "    self.src_embed = src_embed\n",
        "    self.tgt_embed = tgt_embed\n",
        "    self.src_pos = src_pos\n",
        "    self.tgt_pos = tgt_pos\n",
        "    self.projection_layer = projection_layer\n",
        "\n",
        "  def encode(self, src, src_mask):\n",
        "    src = self.src_embed(src)\n",
        "    src = self.src_pos(src)\n",
        "    return self.encoder(src, src_mask)\n",
        "\n",
        "  def decode(self, encoder_output, src_mask, tgt, tgt_mask):\n",
        "    tgt = self.tgt_embed(tgt)\n",
        "    tgt = self.tgt_pos(tgt)\n",
        "    return self.decode(tgt, encoder_output, src_mask, tgt_mask)\n",
        "\n",
        "  def project(self, x):\n",
        "    return self.projection_layer(x)"
      ],
      "metadata": {
        "id": "mxgml8Zcpobr"
      },
      "execution_count": 37,
      "outputs": []
    },
    {
      "cell_type": "markdown",
      "source": [
        "### **Building & Initializing Transformer**"
      ],
      "metadata": {
        "id": "QWkSMhaOsz_Z"
      }
    },
    {
      "cell_type": "code",
      "source": [
        "def build_transformer(src_vocab_size:int, tgt_vocab_size:int, src_seq_len:int, tgt_seq_len:int, d_model:int = 512, N:int = 6, h:int = 8, dropout:float = 0.1, d_ff:int = 2048)->Transformer:\n",
        "  # Creating Embedding layers\n",
        "  src_embed = InputEmbeddings(d_model, src_vocab_size)\n",
        "  tgt_embed = InputEmbeddings(d_model, tgt_vocab_size)\n",
        "\n",
        "  # Creating Positional Encoding layers\n",
        "  src_pos = PositionalEncoding(d_model, src_seq_len, dropout)\n",
        "  tgt_pos = PositionalEncoding(d_model, tgt_seq_len, dropout)\n",
        "\n",
        "  # Creating EncoderBlocks\n",
        "  encoder_blocks = []\n",
        "  for _ in range(N):\n",
        "    encoder_self_attention_block = MultiHeadAttentionBlock(d_model, h, dropout)\n",
        "    feed_forward_block = FeedForwardBlock(d_model, d_ff, dropout)\n",
        "\n",
        "    # Combine layers into an EncoderBlock\n",
        "    encoder_blocks = EncoderBlock(encoder_self_attention_block, feed_forward_block, dropout)\n",
        "    encoder_blocks.append(encoder_blocks)\n",
        "\n",
        "  # Creating DecoderBlocks\n",
        "  decoder_blocks = []\n",
        "  for _ in range(N):\n",
        "    decoder_self_attention_block = MultiHeadAttentionBlock(d_model, h, dropout)\n",
        "    decoder_cross_attention_block = MultiHeadAttentionBlock(d_model, h, dropout)\n",
        "    feed_forward_block = FeedForwardBlock(d_model, d_ff, dropout)\n",
        "\n",
        "    # Combining layers into a DecoderBlock\n",
        "    decoder_blocks = DecoderBlock(decoder_self_attention_block, decoder_cross_attention_block, feed_forward_block, dropout)\n",
        "    decoder_blocks.append(decoder_blocks)\n",
        "\n",
        "  # Creating the Encoder and Decoder by using the EncoderBlocks and DecoderBlocks lists\n",
        "  encoder = Encoder(nn.ModuleList(encoder_blocks))\n",
        "  decoder = Decoder(nn.ModuleList(decoder_blocks))\n",
        "\n",
        "  # Creating projection layer\n",
        "  projection_layer = ProjectionLayer(d_model, tgt_vocab_size)\n",
        "\n",
        "  # Creating the transformer by combining everything above\n",
        "  transformer = Transformer(encoder, decoder, src_embed, tgt_embed, src_pos, tgt_pos, projection_layer)\n",
        "\n",
        "  # Initialize the parameters\n",
        "  for p in transformer.parameters():\n",
        "    if p.dim() > 1:\n",
        "      nn.init.xavier_uniform_(p)\n",
        "\n",
        "  return transformer"
      ],
      "metadata": {
        "id": "SaMFE-HJv2LP"
      },
      "execution_count": 38,
      "outputs": []
    }
  ]
}